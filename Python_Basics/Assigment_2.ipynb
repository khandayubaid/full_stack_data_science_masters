{
 "cells": [
  {
   "cell_type": "markdown",
   "metadata": {},
   "source": [
    "##  Assignment 2 Solutions\n",
    "##### SUBMITTED BY:- UBAID AHMAD KHANDAY\n",
    "\n",
    "###### Q1. What are the two values of the Boolean data type? How do you write them?\n",
    "\n",
    "Ans). Two values of the boolen data types are True and False. We have to use capital T and F  in the start and with the rest of the word in lowercase. The type() of both False and True is bool. Boolean values are often used for making decisions and controlling the flow of a program through conditional statements like if, while, and for loops."
   ]
  },
  {
   "cell_type": "code",
   "execution_count": 8,
   "metadata": {},
   "outputs": [
    {
     "name": "stdout",
     "output_type": "stream",
     "text": [
      "<class 'bool'>\n",
      "<class 'bool'>\n"
     ]
    }
   ],
   "source": [
    "a=True\n",
    "b=False\n",
    "print(type(a))\n",
    "print(type(b))"
   ]
  },
  {
   "cell_type": "markdown",
   "metadata": {},
   "source": [
    "###### Q2. What are the three different types of Boolean operators?\n",
    "\n",
    "Ans).  Boolean operators form the basis of mathematical sets and database logic.Python has three Boolean operators, or logical operators: 'and', 'or', and 'not'.\n",
    "\n",
    "(i) AND Operator (and):  The and operator is used when you want to check if two conditions are both true. It returns True only if both operands are True. If either or both operands are False, the result will be False.It's like both conditions must be met."
   ]
  },
  {
   "cell_type": "code",
   "execution_count": 7,
   "metadata": {},
   "outputs": [
    {
     "name": "stdout",
     "output_type": "stream",
     "text": [
      "True\n"
     ]
    }
   ],
   "source": [
    "a=1000\n",
    "b=2000\n",
    "print(a>500 and b>1500)  #  Example of 'and'"
   ]
  },
  {
   "cell_type": "markdown",
   "metadata": {},
   "source": [
    "(ii)  OR Operator (or):  The or operator is used when you want to check if at least one of two conditions is true. It returns True if either or both operands are True. It's like at least one of the conditions must be met."
   ]
  },
  {
   "cell_type": "code",
   "execution_count": 3,
   "metadata": {},
   "outputs": [
    {
     "name": "stdout",
     "output_type": "stream",
     "text": [
      "True\n"
     ]
    }
   ],
   "source": [
    "a=1000\n",
    "b=2000\n",
    "print(a>300 or b>1000)    #Example of 'or'"
   ]
  },
  {
   "cell_type": "markdown",
   "metadata": {},
   "source": [
    "(iii)  NOT Operator (not):  The not operator is used to negate or reverse the truth value of a condition. It returns the opposite of the operand's value. If the operand is True, not will return False, and if the operand is False, not will return True."
   ]
  },
  {
   "cell_type": "code",
   "execution_count": 6,
   "metadata": {},
   "outputs": [
    {
     "name": "stdout",
     "output_type": "stream",
     "text": [
      "False\n"
     ]
    }
   ],
   "source": [
    "a=1000\n",
    "print(not(a>10)) #Example of 'not'"
   ]
  },
  {
   "cell_type": "markdown",
   "metadata": {},
   "source": [
    "###### Q3. Make a list of each Boolean operator's truth tables (i.e. every possible combination of Boolean values for the operator and what it evaluate ).\n",
    "\n",
    "Ans). The Truth tables for the boolean tables are as follows:\n",
    "\n",
    "###### Truth Table for 'and' operator:\n",
    "\n",
    "Operand_1   \tOperand_2\t   Result\n",
    " \n",
    "False\t        False\t        False\n",
    "\n",
    "False\t        True\t        False\n",
    "\n",
    "True\t        False\t        False\n",
    "\n",
    "True\t        True\t        True\n",
    "\n",
    "###### Truth Table for 'or' operator:\n",
    "\n",
    "Operand_1\tOperand_2\t   Result\n",
    "\n",
    "False\t    False\t        False\n",
    "\n",
    "False\t    True\t        True\n",
    "\n",
    "True\t    False\t        True\n",
    "\n",
    "True\t    True\t        True\n",
    "\n",
    "###### Truth Table for 'not' operator:\n",
    "Operand\t   Result\n",
    "\n",
    "False\t   True\n",
    "\n",
    "True\t   False"
   ]
  },
  {
   "cell_type": "code",
   "execution_count": 9,
   "metadata": {},
   "outputs": [
    {
     "name": "stdout",
     "output_type": "stream",
     "text": [
      "AND Operator Truth Table:\n",
      "False and False = False\n",
      "False and True  = False\n",
      "True  and False = False\n",
      "True  and True  = True\n"
     ]
    }
   ],
   "source": [
    "# Truth table for AND operator\n",
    "print(\"AND Operator Truth Table:\")\n",
    "print(\"False and False =\", False and False)\n",
    "print(\"False and True  =\", False and True)\n",
    "print(\"True  and False =\", True and False)\n",
    "print(\"True  and True  =\", True and True)\n"
   ]
  },
  {
   "cell_type": "code",
   "execution_count": 10,
   "metadata": {},
   "outputs": [
    {
     "name": "stdout",
     "output_type": "stream",
     "text": [
      "\n",
      "OR Operator Truth Table:\n",
      "False or False = False\n",
      "False or True  = True\n",
      "True  or False = True\n",
      "True  or True  = True\n"
     ]
    }
   ],
   "source": [
    "# Truth table for OR operator\n",
    "print(\"\\nOR Operator Truth Table:\")\n",
    "print(\"False or False =\", False or False)\n",
    "print(\"False or True  =\", False or True)\n",
    "print(\"True  or False =\", True or False)\n",
    "print(\"True  or True  =\", True or True)\n"
   ]
  },
  {
   "cell_type": "code",
   "execution_count": 11,
   "metadata": {},
   "outputs": [
    {
     "name": "stdout",
     "output_type": "stream",
     "text": [
      "\n",
      "NOT Operator Truth Table:\n",
      "not False = True\n",
      "not True  = False\n"
     ]
    }
   ],
   "source": [
    "# Truth table for NOT operator\n",
    "print(\"\\nNOT Operator Truth Table:\")\n",
    "print(\"not False =\", not False)\n",
    "print(\"not True  =\", not True)\n"
   ]
  },
  {
   "cell_type": "code",
   "execution_count": null,
   "metadata": {},
   "outputs": [],
   "source": []
  },
  {
   "cell_type": "markdown",
   "metadata": {},
   "source": [
    "###### Q4.  What are the values of the following expressions?\n",
    "\n",
    "(5 > 4) and (3 == 5)\n",
    "\n",
    "not (5 > 4)\n",
    "\n",
    "(5 > 4) or (3 == 5)\n",
    "\n",
    "not ((5 > 4) or (3 == 5))\n",
    "\n",
    "(True and True) and (True == False)\n",
    "\n",
    "(not False) or (not True)\n"
   ]
  },
  {
   "cell_type": "code",
   "execution_count": 30,
   "metadata": {},
   "outputs": [
    {
     "name": "stdout",
     "output_type": "stream",
     "text": [
      "False\n",
      "False\n",
      "True\n",
      "False\n",
      "False\n",
      "True\n"
     ]
    }
   ],
   "source": [
    "#Ans The values of the expressions are:\n",
    "\n",
    "\n",
    "print((5 > 4) and (3 == 5))                     #False\n",
    "print(not(5>4))                                 #False\n",
    "print((5>4) or (3==5))                          #True\n",
    "print(not ((5>4) or (3==5)))                    #False\n",
    "print((True and True) and (True == False))      #False\n",
    "print((not False) or (not True))                #True"
   ]
  },
  {
   "cell_type": "markdown",
   "metadata": {},
   "source": [
    "###### Q5.  What are the six comparison operators?\n",
    "\n",
    "Ans).   The Six comparision operators available in python are:\n",
    "== , != , < , > , <= , =>"
   ]
  },
  {
   "cell_type": "code",
   "execution_count": 22,
   "metadata": {},
   "outputs": [
    {
     "data": {
      "text/plain": [
       "False"
      ]
     },
     "execution_count": 22,
     "metadata": {},
     "output_type": "execute_result"
    }
   ],
   "source": [
    "#Equal to (==): This operator checks if two values are equal.\n",
    "\n",
    "\"hello\" == \"world\"  # False"
   ]
  },
  {
   "cell_type": "code",
   "execution_count": 23,
   "metadata": {},
   "outputs": [
    {
     "data": {
      "text/plain": [
       "True"
      ]
     },
     "execution_count": 23,
     "metadata": {},
     "output_type": "execute_result"
    }
   ],
   "source": [
    "#Not equal to (!=): This operator checks if two values are not equal.\n",
    "\n",
    "5 != 3  # True"
   ]
  },
  {
   "cell_type": "code",
   "execution_count": 24,
   "metadata": {},
   "outputs": [
    {
     "data": {
      "text/plain": [
       "True"
      ]
     },
     "execution_count": 24,
     "metadata": {},
     "output_type": "execute_result"
    }
   ],
   "source": [
    "#Greater than (>): This operator checks if the left operand is greater than the right operand.\n",
    "\n",
    "5 > 3  # True"
   ]
  },
  {
   "cell_type": "code",
   "execution_count": 26,
   "metadata": {},
   "outputs": [
    {
     "data": {
      "text/plain": [
       "True"
      ]
     },
     "execution_count": 26,
     "metadata": {},
     "output_type": "execute_result"
    }
   ],
   "source": [
    "#Less than (<): This operator checks if the left operand is less than the right operand.\n",
    "\n",
    "2 < 7   #True"
   ]
  },
  {
   "cell_type": "code",
   "execution_count": 27,
   "metadata": {},
   "outputs": [
    {
     "data": {
      "text/plain": [
       "True"
      ]
     },
     "execution_count": 27,
     "metadata": {},
     "output_type": "execute_result"
    }
   ],
   "source": [
    "#Greater than or equal to (>=): This operator checks if the left operand is greater than or equal to the right operand.\n",
    "\n",
    "5 >= 5  # True"
   ]
  },
  {
   "cell_type": "code",
   "execution_count": 28,
   "metadata": {},
   "outputs": [
    {
     "data": {
      "text/plain": [
       "False"
      ]
     },
     "execution_count": 28,
     "metadata": {},
     "output_type": "execute_result"
    }
   ],
   "source": [
    "#Less than or equal to (<=): This operator checks if the left operand is less than or equal to the right operand.\n",
    "\n",
    "5 <= 3  # False"
   ]
  },
  {
   "cell_type": "code",
   "execution_count": null,
   "metadata": {},
   "outputs": [],
   "source": []
  },
  {
   "cell_type": "markdown",
   "metadata": {},
   "source": [
    "###### Q6.  How do you tell the difference between the equal to and assignment operators?Describe a condition and when you would use one.\n",
    "\n",
    "Ans).  The equal to (==) operator and the assignment operator (=) serve different purposes in programming, and you can distinguish between them by understanding their functions and context.\n",
    "\n",
    "1) Equal To Operator (==):\n",
    "\n",
    "The double equal sign (==) is a comparison operator used to check whether two values are equal.\n",
    "It returns True if the values on both sides are equal and False if they are not.\n",
    "It is used in conditional statements and expressions to compare values.\n",
    "\n",
    "\n",
    "2)  Assignment Operator (=):\n",
    "\n",
    "\n",
    "The single equal sign (=) is an assignment operator used to assign a value to a variable.\n",
    "It is used to store a value in a variable, updating or initializing the variable with the specified value."
   ]
  },
  {
   "cell_type": "code",
   "execution_count": 35,
   "metadata": {},
   "outputs": [
    {
     "name": "stdout",
     "output_type": "stream",
     "text": [
      "x is not equal to y\n"
     ]
    }
   ],
   "source": [
    "#Equal to Operator\n",
    "x = 5\n",
    "y = 3\n",
    "\n",
    "if x == y:\n",
    "\n",
    "    print(\"x is equal to y\")\n",
    "else:\n",
    "    print(\"x is not equal to y\")\n"
   ]
  },
  {
   "cell_type": "code",
   "execution_count": 36,
   "metadata": {},
   "outputs": [
    {
     "data": {
      "text/plain": [
       "5"
      ]
     },
     "execution_count": 36,
     "metadata": {},
     "output_type": "execute_result"
    }
   ],
   "source": [
    "# Assignment Operator\n",
    "\n",
    "x=5                  # Assigns the value 5 to the variable x\n",
    "x"
   ]
  },
  {
   "cell_type": "code",
   "execution_count": null,
   "metadata": {},
   "outputs": [],
   "source": []
  },
  {
   "cell_type": "markdown",
   "metadata": {},
   "source": [
    "###### Q7. Identify the three blocks in this code:\n",
    "\n",
    "spam = 0\n",
    "\n",
    "if spam == 10:\n",
    "\n",
    "print('eggs')\n",
    "\n",
    "if spam > 5:\n",
    "\n",
    "print('bacon')\n",
    "\n",
    "else:\n",
    "\n",
    "print('ham')\n",
    "\n",
    "print('spam')\n",
    "\n",
    "print('spam')\n",
    "\n",
    "\n",
    "###### Ans).  \n",
    "In Python, code block refers to a collection of code that is in the same block or indent. This is most commonly found in classes, functions, and loops. Answer for the question is:\n",
    "\n",
    "ham\n",
    "\n",
    "spam\n",
    "\n",
    "spam"
   ]
  },
  {
   "cell_type": "code",
   "execution_count": 37,
   "metadata": {},
   "outputs": [
    {
     "name": "stdout",
     "output_type": "stream",
     "text": [
      "ham\n",
      "spam\n",
      "spam\n"
     ]
    }
   ],
   "source": [
    "spam = 0\n",
    "if spam == 10:\n",
    "    print('eggs')               #Block 1\n",
    "if spam > 5:\n",
    "    print('bacon')              #Block 2\n",
    "else:\n",
    "    print('ham')\n",
    "    print('spam')                #Block 3\n",
    "    print('spam')\n"
   ]
  },
  {
   "cell_type": "markdown",
   "metadata": {},
   "source": [
    "###### Q8. Write code that prints Hello if 1 is stored in spam, prints Howdy if 2 is stored in spam, and prints Greetings! if anything else is stored in spam.\n",
    "\n",
    "\n",
    "###### Ans). \n",
    "The Code for the given problem is as:"
   ]
  },
  {
   "cell_type": "code",
   "execution_count": 39,
   "metadata": {},
   "outputs": [
    {
     "name": "stdout",
     "output_type": "stream",
     "text": [
      "Greetings!\n"
     ]
    }
   ],
   "source": [
    "spam=4\n",
    "\n",
    "if spam==1:\n",
    "    print(\"Hello\")\n",
    "elif spam==2:\n",
    "    print(\"Howdy\")\n",
    "else:\n",
    "    print(\"Greetings!\")"
   ]
  },
  {
   "cell_type": "code",
   "execution_count": 41,
   "metadata": {},
   "outputs": [
    {
     "name": "stdout",
     "output_type": "stream",
     "text": [
      "Hello\n",
      "Howdy\n",
      "Greetings\n"
     ]
    }
   ],
   "source": [
    "# OR Through Function\n",
    "\n",
    "def spamCode(spam):\n",
    "    if spam==1:\n",
    "        print('Hello')\n",
    "    elif spam==2:\n",
    "        print('Howdy')\n",
    "    else:\n",
    "        print('Greetings')\n",
    "        \n",
    "spamCode(1) \n",
    "spamCode(2)\n",
    "spamCode(3)"
   ]
  },
  {
   "cell_type": "markdown",
   "metadata": {},
   "source": [
    "###### Q9. If your programme is stuck in an endless loop, what keys you’ll press?\n",
    "\n",
    "###### Ans.\n",
    "\n",
    "If our program is stuck in an endless loop and we need to stop it, we can typically do so by pressing a keyboard combination to forcefully terminate the program. \n",
    "\n",
    "We can press Ctrl + C (Control key and C key simultaneously) in the command prompt or terminal where the program is running. This will send an interrupt signal and usually terminate the program."
   ]
  },
  {
   "cell_type": "markdown",
   "metadata": {},
   "source": [
    "###### Q10. How can you tell the difference between break and continue?\n",
    "\n",
    "###### Ans).  \n",
    "The break statement will move the execution outside the loop if break condtion is satisfied whereas the continue statement will move the execution to the start of the loop.\n",
    "\n",
    "break:\n",
    "\n",
    "The break statement is used to exit the current loop prematurely.\n",
    "When break is encountered inside a loop, it immediately terminates the loop, and the program continues executing the code after the loop.\n",
    "\n",
    "continue:\n",
    "\n",
    "The continue statement is used to skip the current iteration of the loop and move to the next iteration.\n",
    "When continue is encountered inside a loop, it skips the rest of the current iteration's code and jumps to the next iteration of the loop."
   ]
  },
  {
   "cell_type": "code",
   "execution_count": 42,
   "metadata": {},
   "outputs": [
    {
     "name": "stdout",
     "output_type": "stream",
     "text": [
      "s\n",
      "t\n",
      "r\n",
      "The end\n"
     ]
    }
   ],
   "source": [
    "# Use of break statement inside the loop\n",
    "\n",
    "for val in \"string\":\n",
    "    if val == \"i\":\n",
    "        break\n",
    "    print(val)\n",
    "\n",
    "print(\"The end\")"
   ]
  },
  {
   "cell_type": "code",
   "execution_count": 43,
   "metadata": {},
   "outputs": [
    {
     "name": "stdout",
     "output_type": "stream",
     "text": [
      "s\n",
      "t\n",
      "r\n",
      "n\n",
      "g\n",
      "The end\n"
     ]
    }
   ],
   "source": [
    "# Program to show the use of continue statement inside loops\n",
    "\n",
    "for val in \"string\":\n",
    "    if val == \"i\":\n",
    "        continue\n",
    "    print(val)\n",
    "\n",
    "print(\"The end\")"
   ]
  },
  {
   "cell_type": "markdown",
   "metadata": {},
   "source": [
    "###### Q11.  In a for loop, what is the difference between range(10), range(0, 10), and range(0, 10, 1)?\n",
    "\n",
    "##### Ans).\n",
    "range(10):\n",
    "\n",
    "This expression defines a range object that starts at 0 (the default start value) and goes up to 10 (exclusive) with a default step value of 1 (also the default step value). Essentially, it generates the numbers from 0 to 9.\n",
    "\n",
    "range(0, 10):\n",
    "\n",
    "This expression explicitly specifies the start value as 0, goes up to 10 (exclusive), and still has a default step value of 1. It generates the same sequence of numbers as range(10)\n",
    "\n",
    "range(0, 10, 1):\n",
    "\n",
    "This expression explicitly specifies the start value as 0, the stop value as 10 (exclusive), and the step value as 1. Again, it generates the same sequence of numbers as the previous two expressions."
   ]
  },
  {
   "cell_type": "code",
   "execution_count": 44,
   "metadata": {},
   "outputs": [
    {
     "name": "stdout",
     "output_type": "stream",
     "text": [
      "0 1 2 3 4 5 6 7 8 9 \n"
     ]
    }
   ],
   "source": [
    "# printing a number\n",
    "for i in range(10):\n",
    "    print(i, end=\" \")\n",
    "print()"
   ]
  },
  {
   "cell_type": "code",
   "execution_count": 47,
   "metadata": {},
   "outputs": [
    {
     "name": "stdout",
     "output_type": "stream",
     "text": [
      "Sum of numbers : 45\n"
     ]
    }
   ],
   "source": [
    "# performing sum of numbers\n",
    "sum = 0\n",
    "for i in range(0, 10):\n",
    "    sum = sum + i\n",
    "print(\"Sum of numbers :\", sum)"
   ]
  },
  {
   "cell_type": "code",
   "execution_count": 48,
   "metadata": {},
   "outputs": [
    {
     "name": "stdout",
     "output_type": "stream",
     "text": [
      "Sum of numbers : 45\n"
     ]
    }
   ],
   "source": [
    "# performing sum of numbers\n",
    "sum = 0\n",
    "for i in range(0, 10):\n",
    "    sum = sum + i\n",
    "print(\"Sum of numbers :\", sum)"
   ]
  },
  {
   "cell_type": "markdown",
   "metadata": {},
   "source": [
    "###### Q12. Write a short program that prints the numbers 1 to 10 using a for loop. Then write an equivalent program that prints the numbers 1 to 10 using a while loop.\n",
    "\n",
    "###### Ans)."
   ]
  },
  {
   "cell_type": "code",
   "execution_count": 2,
   "metadata": {},
   "outputs": [
    {
     "name": "stdout",
     "output_type": "stream",
     "text": [
      "0 1 2 3 4 5 6 7 8 9 10 \n"
     ]
    }
   ],
   "source": [
    "#using For loop\n",
    "for i in range(0,11):\n",
    "    print(i, end=\" \")\n",
    "print()"
   ]
  },
  {
   "cell_type": "code",
   "execution_count": 3,
   "metadata": {},
   "outputs": [
    {
     "name": "stdout",
     "output_type": "stream",
     "text": [
      "0 1 2 3 4 5 6 7 8 9 10 \n"
     ]
    }
   ],
   "source": [
    "# Using While Loop\n",
    "i=0\n",
    "while i <=10:\n",
    "    print(i,end=\" \")\n",
    "    i+=1\n",
    "print()"
   ]
  },
  {
   "cell_type": "markdown",
   "metadata": {},
   "source": [
    "###### Q13. If you had a function named bacon() inside a module named spam, how would you call it after importing spam?\n",
    "\n",
    "##### Ans). \n",
    "To call a function named bacon() that is defined inside a module named spam after importing the spam module, we can use the following syntax:\n",
    "\n",
    "import spam    # Import the spam module\n",
    "\n",
    "\n",
    " \n",
    "spam.bacon()      # Call the bacon() function from the spam module"
   ]
  },
  {
   "cell_type": "code",
   "execution_count": 6,
   "metadata": {},
   "outputs": [],
   "source": [
    "import spam  # Import the spam module\n",
    "\n",
    "\n",
    "spam.bacon()"
   ]
  },
  {
   "cell_type": "code",
   "execution_count": null,
   "metadata": {},
   "outputs": [],
   "source": []
  },
  {
   "cell_type": "code",
   "execution_count": null,
   "metadata": {},
   "outputs": [],
   "source": []
  },
  {
   "cell_type": "code",
   "execution_count": null,
   "metadata": {},
   "outputs": [],
   "source": []
  }
 ],
 "metadata": {
  "kernelspec": {
   "display_name": "Python 3",
   "language": "python",
   "name": "python3"
  },
  "language_info": {
   "codemirror_mode": {
    "name": "ipython",
    "version": 3
   },
   "file_extension": ".py",
   "mimetype": "text/x-python",
   "name": "python",
   "nbconvert_exporter": "python",
   "pygments_lexer": "ipython3",
   "version": "3.7.4"
  }
 },
 "nbformat": 4,
 "nbformat_minor": 2
}
