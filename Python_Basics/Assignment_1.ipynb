{
 "cells": [
  {
   "cell_type": "markdown",
   "metadata": {},
   "source": [
    "##  Assignment 1 Solutions\n",
    "##### SUBMITTED BY:- UBAID AHMAD KHANDAY\n",
    "\n",
    "###### Q1. In the below elements which of them are values or an expression? eg:- values can be integer or string and expressions will be mathematical operators.\n",
    "*,'hello',-87.8,-,/,+,6\n",
    "\n",
    " Ans). There are 4 expressions & 3 values in the question given:\n",
    " \n",
    " Expressions:- *, -, /, + \n",
    " \n",
    " Values:- 'hello'(string), -87.8(Negative float value), 6(integer value).\n",
    " \n",
    " \n",
    " \n",
    "###### Q2. What is the difference between string and variable?\n",
    " \n",
    " Ans). A variable is a name given to a memory location that stores data. It acts as a container for holding different types of values, such as numbers, strings, or other data types. \n",
    " example:- name=\"ubaid\",age=24, etc\n",
    " A string is a data type used to represent text. It consists of a sequence of characters enclosed within single (' ') or double (\" \") quotation marks.\n",
    " example:-\"Python\", 'hello!', \"This is a very easy assignmet\" etc.\n",
    " \n",
    " \n",
    " \n",
    "###### Q3. Describe three different data types.\n",
    " \n",
    " Ans). There are many different data types like int, float,string,list,complex etc.Let's define 3 numeric data types.\n",
    " \n",
    " => Int(Integer data type):- An integer data type represents whole numbers. It can be either positive or negative.\n",
    " \n",
    " => float(float data type):-The floating-point data type is used to represent numbers that have both an integer and a fractional part.\n",
    " \n",
    " =>complex(complex-number data type):-Complex number is represented by complex class. It is specified as (real part) + (imaginary part)j. e,g 10+3j \n",
    " \n",
    "\n",
    " "
   ]
  },
  {
   "cell_type": "code",
   "execution_count": 2,
   "metadata": {},
   "outputs": [
    {
     "name": "stdout",
     "output_type": "stream",
     "text": [
      "56 <class 'int'>\n",
      "3.14 <class 'float'>\n",
      "(10+3j) <class 'complex'>\n"
     ]
    }
   ],
   "source": [
    "# integer data type\n",
    "a=56\n",
    "print(a,type(a))\n",
    "# float data type\n",
    "b=3.14\n",
    "print(b,type(b))\n",
    "# complex data type\n",
    "c=10+3j\n",
    "print(c,type(c))"
   ]
  },
  {
   "cell_type": "markdown",
   "metadata": {},
   "source": [
    "###### Q4. What is an expression made up of? What do all expressions do?\n",
    "\n",
    "Ans). An expression in programming is a combination of values, variables, operators, and function calls that can be evaluated to produce a result.\n",
    "The primary purpose of expressions is to compute and yield a single value. Expressions are used for calculations, comparisons, assignments, and more."
   ]
  },
  {
   "cell_type": "code",
   "execution_count": 5,
   "metadata": {},
   "outputs": [
    {
     "data": {
      "text/plain": [
       "12"
      ]
     },
     "execution_count": 5,
     "metadata": {},
     "output_type": "execute_result"
    }
   ],
   "source": [
    "# example of expression\n",
    "35*2+6-64"
   ]
  },
  {
   "cell_type": "markdown",
   "metadata": {},
   "source": [
    "###### Q5. This assignment statements, like spam = 10. What is the difference between an expression and a statement?\n",
    "\n",
    "Ans). Expression:- An expression is a piece of code that produces a value when evaluated. It can consist of variables, values, operators, and function calls. Expressions can be as simple as a single value or as complex as a combination of multiple values and operators.\n",
    "example:- 20*5+6-10\n",
    "\n",
    "Statement:- A statement is a complete instruction that performs an action. Statements are used to control the flow of a program by specifying actions to be executed.\n",
    "example:- assignment=\"This is my first assignment\"\n",
    "\n",
    "\n",
    "###### Q6. After running the following code, what does the variable bacon contain?\n",
    "###### bacon = 22\n",
    "###### bacon + 1\n",
    "\n",
    "Ans). The variable bacon will still contain the value 22.The expression bacon + 1 calculates the result of adding 1 to the value of bacon, but the result of this expression is not assigned to any variable or used in any way.The correct way would be\n",
    "like this \n",
    "           bacon=22\n",
    "           bacon =bacon +1\n",
    "           or \n",
    "           bacon +=1\n"
   ]
  },
  {
   "cell_type": "code",
   "execution_count": 7,
   "metadata": {},
   "outputs": [
    {
     "name": "stdout",
     "output_type": "stream",
     "text": [
      "22\n"
     ]
    }
   ],
   "source": [
    "# The above code\n",
    "bacon=22\n",
    "bacon +1\n",
    "print(bacon)"
   ]
  },
  {
   "cell_type": "code",
   "execution_count": 8,
   "metadata": {},
   "outputs": [
    {
     "name": "stdout",
     "output_type": "stream",
     "text": [
      "23\n"
     ]
    }
   ],
   "source": [
    "#The correct way\n",
    "bacon=22\n",
    "bacon+=1\n",
    "print(bacon)"
   ]
  },
  {
   "cell_type": "markdown",
   "metadata": {},
   "source": [
    "###### Q7. What should the values of the following two terms be?\n",
    "###### 'spam' + 'spamspam'\n",
    "###### 'spam'* 3\n",
    "\n",
    "Ans).Both expressions will yield the same value of 'spamspamspam' .'spam' + 'spamspam':expression concatenates  the two strings 'spam' and 'spamspam',using the concatenating operator '+' resulting in the string 'spamspamspam'.It is called string Concatenation while as\n",
    "'spam' * 3: expression repeats the string 'spam' three times, resulting in the string 'spamspamspam'.Here it is called String Multiplication"
   ]
  },
  {
   "cell_type": "code",
   "execution_count": 9,
   "metadata": {},
   "outputs": [
    {
     "name": "stdout",
     "output_type": "stream",
     "text": [
      "spamspamspam\n",
      "spamspamspam\n"
     ]
    }
   ],
   "source": [
    "print('spam'+'spamspam')\n",
    "print('spam'*3)"
   ]
  },
  {
   "cell_type": "markdown",
   "metadata": {},
   "source": [
    "###### Q8. Why is eggs a valid variable name while 100 is invalid?\n",
    "\n",
    "Ans). In python or any other programming language there are certain rules for variable decleration which states that a variable name should start with a letter or an underscore not an digit or symbol but a variable name can contain combination of letters annd digits like egg, egg100, _egg are valid variable names. Therefore eggs is a valid variable name and 100 is invalid"
   ]
  },
  {
   "cell_type": "code",
   "execution_count": 12,
   "metadata": {},
   "outputs": [
    {
     "data": {
      "text/plain": [
       "'hen'"
      ]
     },
     "execution_count": 12,
     "metadata": {},
     "output_type": "execute_result"
    }
   ],
   "source": [
    "#valid variable name\n",
    "eggs=\"hen\"\n",
    "eggs"
   ]
  },
  {
   "cell_type": "code",
   "execution_count": 13,
   "metadata": {},
   "outputs": [
    {
     "ename": "SyntaxError",
     "evalue": "can't assign to literal (<ipython-input-13-775bb3ff78cf>, line 2)",
     "output_type": "error",
     "traceback": [
      "\u001b[1;36m  File \u001b[1;32m\"<ipython-input-13-775bb3ff78cf>\"\u001b[1;36m, line \u001b[1;32m2\u001b[0m\n\u001b[1;33m    100=dozen\u001b[0m\n\u001b[1;37m             ^\u001b[0m\n\u001b[1;31mSyntaxError\u001b[0m\u001b[1;31m:\u001b[0m can't assign to literal\n"
     ]
    }
   ],
   "source": [
    "#invalid variable name\n",
    "100=dozen\n",
    "100"
   ]
  },
  {
   "cell_type": "markdown",
   "metadata": {},
   "source": [
    "###### Q9. What three functions can be used to get the integer, floating-point number, or string version of a value?\n",
    "\n",
    "Ans). The int(), float(), and str() functions will evaluate to the integer, floating-point number, and string versions of the value passed to them.\n",
    "\n",
    "###### Q10. Why does this expression cause an error? How can you fix it?\n",
    "######  'I have eaten'+ 99 +'burritos'\n",
    "   \n",
    "Ans). The above expression causes an error because we are trying to concatenate a string with an integer data type using the '+' opertaor which is used to concatenate only strings.\n",
    "   To fix this error we need to convert 99 to string type by type conversion before concatenating with the other strings.Here is the correct way\n",
    "     'I have eaten'+ str(99) +'burritos'"
   ]
  },
  {
   "cell_type": "code",
   "execution_count": 19,
   "metadata": {},
   "outputs": [
    {
     "name": "stdout",
     "output_type": "stream",
     "text": [
      "I have eaten 99 burritos\n"
     ]
    }
   ],
   "source": [
    "print('I have eaten ' + str(99)  + ' burritos')"
   ]
  },
  {
   "cell_type": "code",
   "execution_count": null,
   "metadata": {},
   "outputs": [],
   "source": []
  },
  {
   "cell_type": "code",
   "execution_count": null,
   "metadata": {},
   "outputs": [],
   "source": []
  },
  {
   "cell_type": "code",
   "execution_count": null,
   "metadata": {},
   "outputs": [],
   "source": []
  },
  {
   "cell_type": "code",
   "execution_count": null,
   "metadata": {},
   "outputs": [],
   "source": []
  },
  {
   "cell_type": "code",
   "execution_count": null,
   "metadata": {},
   "outputs": [],
   "source": []
  }
 ],
 "metadata": {
  "kernelspec": {
   "display_name": "Python 3",
   "language": "python",
   "name": "python3"
  },
  "language_info": {
   "codemirror_mode": {
    "name": "ipython",
    "version": 3
   },
   "file_extension": ".py",
   "mimetype": "text/x-python",
   "name": "python",
   "nbconvert_exporter": "python",
   "pygments_lexer": "ipython3",
   "version": "3.7.4"
  }
 },
 "nbformat": 4,
 "nbformat_minor": 2
}
